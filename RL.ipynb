{
 "cells": [
  {
   "cell_type": "markdown",
   "metadata": {},
   "source": [
    "# Representation Learning"
   ]
  },
  {
   "cell_type": "code",
   "execution_count": 39,
   "metadata": {
    "collapsed": true
   },
   "outputs": [],
   "source": [
    "import numpy as np\n",
    "from os import listdir\n",
    "from os.path import isfile, join\n",
    "from matplotlib import pyplot as plt\n",
    "%matplotlib inline\n",
    "from PIL import Image\n",
    "from scipy import misc\n",
    "import matplotlib.image as mpimg"
   ]
  },
  {
   "cell_type": "code",
   "execution_count": 40,
   "metadata": {
    "collapsed": true
   },
   "outputs": [],
   "source": [
    "def load_faces(data_path):\n",
    "    data = dict()\n",
    "    for i in range(1, 41):\n",
    "        images = list()\n",
    "        for j in range(1, 11):\n",
    "            path = data_path + 's' + str(i) + '/' + str(j) + '.pgm'\n",
    "            images.append(mpimg.imread(path))\n",
    "        data[i] = images\n",
    "    return data"
   ]
  },
  {
   "cell_type": "code",
   "execution_count": 41,
   "metadata": {},
   "outputs": [],
   "source": [
    "data = load_faces('orl_faces/')"
   ]
  },
  {
   "cell_type": "code",
   "execution_count": 42,
   "metadata": {},
   "outputs": [],
   "source": [
    "def show_images(images, cols = 1, titles = None):\n",
    "    \"\"\"Display a list of images in a single figure with matplotlib.\n",
    "    \n",
    "    Parameters\n",
    "    ---------\n",
    "    images: List of np.arrays compatible with plt.imshow.\n",
    "    \n",
    "    cols (Default = 1): Number of columns in figure (number of rows is \n",
    "                        set to np.ceil(n_images/float(cols))).\n",
    "    \n",
    "    titles: List of titles corresponding to each image. Must have\n",
    "            the same length as titles.\n",
    "    \"\"\"\n",
    "    assert((titles is None)or (len(images) == len(titles)))\n",
    "    n_images = len(images)\n",
    "    if titles is None: titles = ['Image (%d)' % i for i in range(1,n_images + 1)]\n",
    "    fig = plt.figure()\n",
    "    for n, (image, title) in enumerate(zip(images, titles)):\n",
    "        a = fig.add_subplot(cols, np.ceil(n_images/float(cols)), n + 1)\n",
    "        if image.ndim == 2:\n",
    "            plt.gray()\n",
    "        plt.imshow(image)\n",
    "        a.set_title(title)\n",
    "    fig.set_size_inches(np.array(fig.get_size_inches()) * n_images)\n",
    "    plt.show()"
   ]
  },
  {
   "cell_type": "markdown",
   "metadata": {},
   "source": [
    "# Simple Auto-Encoder"
   ]
  },
  {
   "cell_type": "code",
   "execution_count": 43,
   "metadata": {
    "collapsed": true
   },
   "outputs": [],
   "source": [
    "from keras.layers import Input, Dense\n",
    "from keras.models import Model\n",
    "\n",
    "# this is the size of our encoded representations\n",
    "encoding_dim = 32  # 32 floats -> compression of factor 24.5, assuming the input is 784 floats\n",
    "\n",
    "# this is our input placeholder\n",
    "input_img = Input(shape=(784,))\n",
    "# \"encoded\" is the encoded representation of the input\n",
    "encoded = Dense(encoding_dim, activation='relu')(input_img)\n",
    "# \"decoded\" is the lossy reconstruction of the input\n",
    "decoded = Dense(784, activation='sigmoid')(encoded)\n",
    "\n",
    "# this model maps an input to its reconstruction\n",
    "autoencoder = Model(input_img, decoded)"
   ]
  },
  {
   "cell_type": "code",
   "execution_count": 44,
   "metadata": {
    "collapsed": true
   },
   "outputs": [],
   "source": [
    "# this model maps an input to its encoded representation\n",
    "encoder = Model(input_img, encoded)"
   ]
  },
  {
   "cell_type": "code",
   "execution_count": 45,
   "metadata": {
    "collapsed": true
   },
   "outputs": [],
   "source": [
    "# create a placeholder for an encoded (32-dimensional) input\n",
    "encoded_input = Input(shape=(encoding_dim,))\n",
    "# retrieve the last layer of the autoencoder model\n",
    "decoder_layer = autoencoder.layers[-1]\n",
    "# create the decoder model\n",
    "decoder = Model(encoded_input, decoder_layer(encoded_input))"
   ]
  },
  {
   "cell_type": "code",
   "execution_count": 46,
   "metadata": {
    "collapsed": true
   },
   "outputs": [],
   "source": [
    "autoencoder.compile(optimizer='adadelta', loss='binary_crossentropy')"
   ]
  },
  {
   "cell_type": "code",
   "execution_count": 47,
   "metadata": {},
   "outputs": [],
   "source": [
    "from keras.datasets import mnist\n",
    "import numpy as np\n",
    "(x_train, _), (x_test, _) = mnist.load_data()"
   ]
  },
  {
   "cell_type": "code",
   "execution_count": 49,
   "metadata": {},
   "outputs": [
    {
     "name": "stdout",
     "output_type": "stream",
     "text": [
      "(60000, 784)\n",
      "(10000, 784)\n"
     ]
    }
   ],
   "source": [
    "x_train = x_train.astype('float32') / 255.\n",
    "x_test = x_test.astype('float32') / 255.\n",
    "x_train = x_train.reshape((len(x_train), np.prod(x_train.shape[1:])))\n",
    "x_test = x_test.reshape((len(x_test), np.prod(x_test.shape[1:])))\n",
    "print (x_train.shape)\n",
    "print (x_test.shape)"
   ]
  },
  {
   "cell_type": "code",
   "execution_count": 50,
   "metadata": {
    "scrolled": true
   },
   "outputs": [
    {
     "name": "stdout",
     "output_type": "stream",
     "text": [
      "Train on 60000 samples, validate on 10000 samples\n",
      "Epoch 1/50\n",
      "60000/60000 [==============================] - 3s 44us/step - loss: 0.3627 - val_loss: 0.2712\n",
      "Epoch 2/50\n",
      "60000/60000 [==============================] - 2s 40us/step - loss: 0.2640 - val_loss: 0.2532\n",
      "Epoch 3/50\n",
      "60000/60000 [==============================] - 2s 41us/step - loss: 0.2421 - val_loss: 0.2288\n",
      "Epoch 4/50\n",
      "60000/60000 [==============================] - 2s 40us/step - loss: 0.2210 - val_loss: 0.2112\n",
      "Epoch 5/50\n",
      "60000/60000 [==============================] - 3s 43us/step - loss: 0.2064 - val_loss: 0.1989\n",
      "Epoch 6/50\n",
      "60000/60000 [==============================] - 2s 40us/step - loss: 0.1956 - val_loss: 0.1894\n",
      "Epoch 7/50\n",
      "60000/60000 [==============================] - 2s 41us/step - loss: 0.1871 - val_loss: 0.1820\n",
      "Epoch 8/50\n",
      "60000/60000 [==============================] - 3s 43us/step - loss: 0.1804 - val_loss: 0.1758\n",
      "Epoch 9/50\n",
      "60000/60000 [==============================] - 2s 41us/step - loss: 0.1746 - val_loss: 0.1708\n",
      "Epoch 10/50\n",
      "60000/60000 [==============================] - 2s 40us/step - loss: 0.1696 - val_loss: 0.1658\n",
      "Epoch 11/50\n",
      "60000/60000 [==============================] - 3s 44us/step - loss: 0.1650 - val_loss: 0.1614\n",
      "Epoch 12/50\n",
      "60000/60000 [==============================] - 3s 44us/step - loss: 0.1608 - val_loss: 0.1575\n",
      "Epoch 13/50\n",
      "60000/60000 [==============================] - 2s 41us/step - loss: 0.1569 - val_loss: 0.1537\n",
      "Epoch 14/50\n",
      "60000/60000 [==============================] - 3s 43us/step - loss: 0.1534 - val_loss: 0.1503\n",
      "Epoch 15/50\n",
      "60000/60000 [==============================] - 3s 42us/step - loss: 0.1502 - val_loss: 0.1472\n",
      "Epoch 16/50\n",
      "60000/60000 [==============================] - 3s 42us/step - loss: 0.1471 - val_loss: 0.1442\n",
      "Epoch 17/50\n",
      "60000/60000 [==============================] - 3s 45us/step - loss: 0.1443 - val_loss: 0.1415\n",
      "Epoch 18/50\n",
      "60000/60000 [==============================] - 3s 47us/step - loss: 0.1417 - val_loss: 0.1390\n",
      "Epoch 19/50\n",
      "60000/60000 [==============================] - 3s 51us/step - loss: 0.1393 - val_loss: 0.1365\n",
      "Epoch 20/50\n",
      "60000/60000 [==============================] - 3s 42us/step - loss: 0.1369 - val_loss: 0.1342\n",
      "Epoch 21/50\n",
      "60000/60000 [==============================] - 3s 49us/step - loss: 0.1346 - val_loss: 0.1320\n",
      "Epoch 22/50\n",
      "60000/60000 [==============================] - 3s 46us/step - loss: 0.1325 - val_loss: 0.1299\n",
      "Epoch 23/50\n",
      "60000/60000 [==============================] - 2s 41us/step - loss: 0.1304 - val_loss: 0.1278\n",
      "Epoch 24/50\n",
      "60000/60000 [==============================] - 3s 46us/step - loss: 0.1284 - val_loss: 0.1259\n",
      "Epoch 25/50\n",
      "60000/60000 [==============================] - 3s 50us/step - loss: 0.1265 - val_loss: 0.1241\n",
      "Epoch 26/50\n",
      "60000/60000 [==============================] - 3s 47us/step - loss: 0.1248 - val_loss: 0.1223\n",
      "Epoch 27/50\n",
      "60000/60000 [==============================] - 3s 48us/step - loss: 0.1231 - val_loss: 0.1207\n",
      "Epoch 28/50\n",
      "60000/60000 [==============================] - 3s 46us/step - loss: 0.1215 - val_loss: 0.1191\n",
      "Epoch 29/50\n",
      "60000/60000 [==============================] - 3s 44us/step - loss: 0.1199 - val_loss: 0.1176\n",
      "Epoch 30/50\n",
      "60000/60000 [==============================] - 3s 44us/step - loss: 0.1185 - val_loss: 0.1162\n",
      "Epoch 31/50\n",
      "60000/60000 [==============================] - 3s 49us/step - loss: 0.1171 - val_loss: 0.1149\n",
      "Epoch 32/50\n",
      "60000/60000 [==============================] - 3s 44us/step - loss: 0.1159 - val_loss: 0.1137\n",
      "Epoch 33/50\n",
      "60000/60000 [==============================] - 3s 44us/step - loss: 0.1147 - val_loss: 0.1125\n",
      "Epoch 34/50\n",
      "60000/60000 [==============================] - 3s 50us/step - loss: 0.1136 - val_loss: 0.1114\n",
      "Epoch 35/50\n",
      "60000/60000 [==============================] - 3s 50us/step - loss: 0.1125 - val_loss: 0.1104\n",
      "Epoch 36/50\n",
      "60000/60000 [==============================] - 3s 43us/step - loss: 0.1115 - val_loss: 0.1095\n",
      "Epoch 37/50\n",
      "60000/60000 [==============================] - 3s 44us/step - loss: 0.1106 - val_loss: 0.1086\n",
      "Epoch 38/50\n",
      "60000/60000 [==============================] - 3s 47us/step - loss: 0.1098 - val_loss: 0.1078\n",
      "Epoch 39/50\n",
      "60000/60000 [==============================] - 3s 51us/step - loss: 0.1090 - val_loss: 0.1070\n",
      "Epoch 40/50\n",
      "60000/60000 [==============================] - 3s 52us/step - loss: 0.1083 - val_loss: 0.1063\n",
      "Epoch 41/50\n",
      "60000/60000 [==============================] - 3s 49us/step - loss: 0.1076 - val_loss: 0.1057\n",
      "Epoch 42/50\n",
      "60000/60000 [==============================] - 3s 46us/step - loss: 0.1069 - val_loss: 0.1050\n",
      "Epoch 43/50\n",
      "60000/60000 [==============================] - 3s 55us/step - loss: 0.1063 - val_loss: 0.1045\n",
      "Epoch 44/50\n",
      "60000/60000 [==============================] - 3s 49us/step - loss: 0.1058 - val_loss: 0.1039\n",
      "Epoch 45/50\n",
      "60000/60000 [==============================] - 3s 49us/step - loss: 0.1053 - val_loss: 0.1034\n",
      "Epoch 46/50\n",
      "60000/60000 [==============================] - 3s 57us/step - loss: 0.1048 - val_loss: 0.1029\n",
      "Epoch 47/50\n",
      "60000/60000 [==============================] - 3s 45us/step - loss: 0.1043 - val_loss: 0.1025\n",
      "Epoch 48/50\n",
      "60000/60000 [==============================] - 2s 40us/step - loss: 0.1038 - val_loss: 0.1021\n",
      "Epoch 49/50\n",
      "60000/60000 [==============================] - 3s 43us/step - loss: 0.1034 - val_loss: 0.1016\n",
      "Epoch 50/50\n",
      "60000/60000 [==============================] - 3s 49us/step - loss: 0.1030 - val_loss: 0.1012\n"
     ]
    },
    {
     "data": {
      "text/plain": [
       "<keras.callbacks.History at 0x121618080>"
      ]
     },
     "execution_count": 50,
     "metadata": {},
     "output_type": "execute_result"
    }
   ],
   "source": [
    "autoencoder.fit(x_train, x_train,\n",
    "                epochs=50,\n",
    "                batch_size=256,\n",
    "                shuffle=True,\n",
    "                validation_data=(x_test, x_test))"
   ]
  },
  {
   "cell_type": "code",
   "execution_count": 51,
   "metadata": {
    "collapsed": true
   },
   "outputs": [],
   "source": [
    "# encode and decode some digits\n",
    "# note that we take them from the *test* set\n",
    "encoded_imgs = encoder.predict(x_test)\n",
    "decoded_imgs = decoder.predict(encoded_imgs)"
   ]
  },
  {
   "cell_type": "code",
   "execution_count": 67,
   "metadata": {},
   "outputs": [
    {
     "data": {
      "image/png": "[encoded data removed]",
      "text/plain": [
       "<matplotlib.figure.Figure at 0x11243c160>"
      ]
     },
     "metadata": {},
     "output_type": "display_data"
    }
   ],
   "source": [
    "# use Matplotlib (don't ask)\n",
    "import matplotlib.pyplot as plt\n",
    "\n",
    "n = 10  # how many digits we will display\n",
    "plt.figure(figsize=(20, 4))\n",
    "for i in range(n):\n",
    "    # display original\n",
    "    ax = plt.subplot(2, n, i + 1)\n",
    "    plt.imshow(x_test[i].reshape(28, 28))\n",
    "    plt.gray()\n",
    "    ax.get_xaxis().set_visible(False)\n",
    "    ax.get_yaxis().set_visible(False)\n",
    "\n",
    "    # display reconstruction\n",
    "    ax = plt.subplot(2, n, i + 1 + n)\n",
    "    plt.imshow(decoded_imgs[i].reshape(28, 28))\n",
    "    plt.gray()\n",
    "    ax.get_xaxis().set_visible(False)\n",
    "    ax.get_yaxis().set_visible(False)\n",
    "plt.show()"
   ]
  },
  {
   "cell_type": "markdown",
   "metadata": {},
   "source": [
    "# Sparse Auto-Encoder"
   ]
  },
  {
   "cell_type": "code",
   "execution_count": 77,
   "metadata": {},
   "outputs": [],
   "source": [
    "from keras import regularizers\n",
    "\n",
    "encoding_dim = 32\n",
    "\n",
    "input_img = Input(shape=(784,))\n",
    "# add a Dense layer with a L1 activity regularizer\n",
    "sencoded = Dense(encoding_dim, activation='relu',\n",
    "                activity_regularizer=regularizers.l1(10e-5))(input_img)\n",
    "sdecoded = Dense(784, activation='sigmoid')(sencoded)\n",
    "\n",
    "sparseautoencoder = Model(input_img, sdecoded)\n",
    "\n",
    "sencoder = Model(input_img, sencoded)\n",
    "# create a placeholder for an encoded (32-dimensional) input\n",
    "sencoded_input = Input(shape=(encoding_dim,))\n",
    "# retrieve the last layer of the autoencoder model\n",
    "sdecoder_layer = sparseautoencoder.layers[-1]\n",
    "# create the decoder model\n",
    "sdecoder = Model(sencoded_input, sdecoder_layer(sencoded_input))"
   ]
  },
  {
   "cell_type": "code",
   "execution_count": 78,
   "metadata": {
    "scrolled": true
   },
   "outputs": [
    {
     "name": "stdout",
     "output_type": "stream",
     "text": [
      "Train on 60000 samples, validate on 10000 samples\n",
      "Epoch 1/50\n",
      "60000/60000 [==============================] - 3s 46us/step - loss: 0.6734 - val_loss: 0.6485\n",
      "Epoch 2/50\n",
      "60000/60000 [==============================] - 3s 44us/step - loss: 0.6284 - val_loss: 0.6090\n",
      "Epoch 3/50\n",
      "60000/60000 [==============================] - 3s 44us/step - loss: 0.5916 - val_loss: 0.5749\n",
      "Epoch 4/50\n",
      "60000/60000 [==============================] - 2s 41us/step - loss: 0.5598 - val_loss: 0.5454\n",
      "Epoch 5/50\n",
      "60000/60000 [==============================] - 2s 41us/step - loss: 0.5323 - val_loss: 0.5198\n",
      "Epoch 6/50\n",
      "60000/60000 [==============================] - 2s 42us/step - loss: 0.5084 - val_loss: 0.4975\n",
      "Epoch 7/50\n",
      "60000/60000 [==============================] - 2s 41us/step - loss: 0.4875 - val_loss: 0.4780\n",
      "Epoch 8/50\n",
      "60000/60000 [==============================] - 2s 42us/step - loss: 0.4692 - val_loss: 0.4609\n",
      "Epoch 9/50\n",
      "60000/60000 [==============================] - 2s 41us/step - loss: 0.4531 - val_loss: 0.4457\n",
      "Epoch 10/50\n",
      "60000/60000 [==============================] - 3s 43us/step - loss: 0.4389 - val_loss: 0.4324\n",
      "Epoch 11/50\n",
      "60000/60000 [==============================] - 2s 41us/step - loss: 0.4262 - val_loss: 0.4205\n",
      "Epoch 12/50\n",
      "60000/60000 [==============================] - 2s 41us/step - loss: 0.4150 - val_loss: 0.4098\n",
      "Epoch 13/50\n",
      "60000/60000 [==============================] - 2s 41us/step - loss: 0.4049 - val_loss: 0.4003\n",
      "Epoch 14/50\n",
      "60000/60000 [==============================] - 3s 45us/step - loss: 0.3959 - val_loss: 0.3918\n",
      "Epoch 15/50\n",
      "60000/60000 [==============================] - 3s 43us/step - loss: 0.3877 - val_loss: 0.3840\n",
      "Epoch 16/50\n",
      "60000/60000 [==============================] - 2s 41us/step - loss: 0.3804 - val_loss: 0.3771\n",
      "Epoch 17/50\n",
      "60000/60000 [==============================] - 2s 41us/step - loss: 0.3737 - val_loss: 0.3707\n",
      "Epoch 18/50\n",
      "60000/60000 [==============================] - 3s 42us/step - loss: 0.3676 - val_loss: 0.3649\n",
      "Epoch 19/50\n",
      "60000/60000 [==============================] - 2s 41us/step - loss: 0.3621 - val_loss: 0.3596\n",
      "Epoch 20/50\n",
      "60000/60000 [==============================] - 2s 41us/step - loss: 0.3570 - val_loss: 0.3548\n",
      "Epoch 21/50\n",
      "60000/60000 [==============================] - 3s 43us/step - loss: 0.3524 - val_loss: 0.3503\n",
      "Epoch 22/50\n",
      "60000/60000 [==============================] - 3s 47us/step - loss: 0.3481 - val_loss: 0.3463\n",
      "Epoch 23/50\n",
      "60000/60000 [==============================] - 3s 57us/step - loss: 0.3442 - val_loss: 0.3425\n",
      "Epoch 24/50\n",
      "60000/60000 [==============================] - 3s 55us/step - loss: 0.3406 - val_loss: 0.3390\n",
      "Epoch 25/50\n",
      "60000/60000 [==============================] - 3s 46us/step - loss: 0.3372 - val_loss: 0.3357\n",
      "Epoch 26/50\n",
      "60000/60000 [==============================] - 3s 55us/step - loss: 0.3341 - val_loss: 0.3327\n",
      "Epoch 27/50\n",
      "60000/60000 [==============================] - 3s 47us/step - loss: 0.3312 - val_loss: 0.3299\n",
      "Epoch 28/50\n",
      "60000/60000 [==============================] - 2s 42us/step - loss: 0.3285 - val_loss: 0.3273\n",
      "Epoch 29/50\n",
      "60000/60000 [==============================] - 3s 43us/step - loss: 0.3259 - val_loss: 0.3249\n",
      "Epoch 30/50\n",
      "60000/60000 [==============================] - 2s 41us/step - loss: 0.3236 - val_loss: 0.3226\n",
      "Epoch 31/50\n",
      "60000/60000 [==============================] - 2s 41us/step - loss: 0.3213 - val_loss: 0.3204\n",
      "Epoch 32/50\n",
      "60000/60000 [==============================] - 2s 41us/step - loss: 0.3193 - val_loss: 0.3184\n",
      "Epoch 33/50\n",
      "60000/60000 [==============================] - 3s 43us/step - loss: 0.3173 - val_loss: 0.3165\n",
      "Epoch 34/50\n",
      "60000/60000 [==============================] - 2s 41us/step - loss: 0.3155 - val_loss: 0.3147\n",
      "Epoch 35/50\n",
      "60000/60000 [==============================] - 2s 41us/step - loss: 0.3138 - val_loss: 0.3131\n",
      "Epoch 36/50\n",
      "60000/60000 [==============================] - 2s 41us/step - loss: 0.3121 - val_loss: 0.3115\n",
      "Epoch 37/50\n",
      "60000/60000 [==============================] - 3s 42us/step - loss: 0.3106 - val_loss: 0.3100\n",
      "Epoch 38/50\n",
      "60000/60000 [==============================] - 2s 41us/step - loss: 0.3091 - val_loss: 0.3085\n",
      "Epoch 39/50\n",
      "60000/60000 [==============================] - 2s 41us/step - loss: 0.3077 - val_loss: 0.3072\n",
      "Epoch 40/50\n",
      "60000/60000 [==============================] - 2s 41us/step - loss: 0.3064 - val_loss: 0.3059\n",
      "Epoch 41/50\n",
      "60000/60000 [==============================] - 3s 42us/step - loss: 0.3052 - val_loss: 0.3047\n",
      "Epoch 42/50\n",
      "60000/60000 [==============================] - 3s 44us/step - loss: 0.3040 - val_loss: 0.3035\n",
      "Epoch 43/50\n",
      "60000/60000 [==============================] - 3s 52us/step - loss: 0.3029 - val_loss: 0.3024\n",
      "Epoch 44/50\n",
      "60000/60000 [==============================] - 3s 43us/step - loss: 0.3018 - val_loss: 0.3014\n",
      "Epoch 45/50\n",
      "60000/60000 [==============================] - 3s 48us/step - loss: 0.3008 - val_loss: 0.3004\n",
      "Epoch 46/50\n",
      "60000/60000 [==============================] - 3s 48us/step - loss: 0.2998 - val_loss: 0.2994\n",
      "Epoch 47/50\n",
      "60000/60000 [==============================] - 3s 51us/step - loss: 0.2989 - val_loss: 0.2985\n",
      "Epoch 48/50\n",
      "60000/60000 [==============================] - 3s 46us/step - loss: 0.2980 - val_loss: 0.2976\n",
      "Epoch 49/50\n",
      "60000/60000 [==============================] - 3s 43us/step - loss: 0.2971 - val_loss: 0.2968\n",
      "Epoch 50/50\n",
      "60000/60000 [==============================] - 3s 43us/step - loss: 0.2963 - val_loss: 0.2960\n"
     ]
    },
    {
     "data": {
      "text/plain": [
       "<keras.callbacks.History at 0x12744ff98>"
      ]
     },
     "execution_count": 78,
     "metadata": {},
     "output_type": "execute_result"
    }
   ],
   "source": [
    "sparseautoencoder.compile(optimizer='adadelta', loss='binary_crossentropy')\n",
    "sparseautoencoder.fit(x_train, x_train,\n",
    "                epochs=50,\n",
    "                batch_size=256,\n",
    "                shuffle=True,\n",
    "                validation_data=(x_test, x_test))"
   ]
  },
  {
   "cell_type": "code",
   "execution_count": 80,
   "metadata": {},
   "outputs": [
    {
     "data": {
      "image/png": "[encoded data removed]",
      "text/plain": [
       "<matplotlib.figure.Figure at 0x1239040b8>"
      ]
     },
     "metadata": {},
     "output_type": "display_data"
    }
   ],
   "source": [
    "\n",
    "# encode and decode some digits\n",
    "# note that we take them from the *test* set\n",
    "sencoded_imgs = sencoder.predict(x_test)\n",
    "sdecoded_imgs = sdecoder.predict(sencoded_imgs)\n",
    "# use Matplotlib (don' ask)\n",
    "import matplotlib.pyplot as plt\n",
    "\n",
    "n = 10  # how many digits we will display\n",
    "plt.figure(figsize=(20, 4))\n",
    "for i in range(n):\n",
    "    # display original\n",
    "    ax = plt.subplot(2, n, i + 1)\n",
    "    plt.imshow(x_test[i].reshape(28, 28))\n",
    "    plt.gray()\n",
    "    ax.get_xaxis().set_visible(False)\n",
    "    ax.get_yaxis().set_visible(False)\n",
    "\n",
    "    # display reconstruction\n",
    "    ax = plt.subplot(2, n, i + 1 + n)\n",
    "    plt.imshow(sdecoded_imgs[i].reshape(28, 28))\n",
    "    plt.gray()\n",
    "    ax.get_xaxis().set_visible(False)\n",
    "    ax.get_yaxis().set_visible(False)\n",
    "plt.show()"
   ]
  },
  {
   "cell_type": "code",
   "execution_count": null,
   "metadata": {
    "collapsed": true
   },
   "outputs": [],
   "source": []
  }
 ],
 "metadata": {
  "kernelspec": {
   "display_name": "Python 3",
   "language": "python",
   "name": "python3"
  },
  "language_info": {
   "codemirror_mode": {
    "name": "ipython",
    "version": 3
   },
   "file_extension": ".py",
   "mimetype": "text/x-python",
   "name": "python",
   "nbconvert_exporter": "python",
   "pygments_lexer": "ipython3",
   "version": "3.6.1"
  }
 },
 "nbformat": 4,
 "nbformat_minor": 2
}
